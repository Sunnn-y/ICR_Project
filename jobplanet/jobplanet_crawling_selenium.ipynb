{
  "nbformat": 4,
  "nbformat_minor": 0,
  "metadata": {
    "colab": {
      "provenance": [],
      "authorship_tag": "ABX9TyN5Xz9CNwewLx+ROUdnLTER",
      "include_colab_link": true
    },
    "kernelspec": {
      "name": "python3",
      "display_name": "Python 3"
    },
    "language_info": {
      "name": "python"
    }
  },
  "cells": [
    {
      "cell_type": "markdown",
      "metadata": {
        "id": "view-in-github",
        "colab_type": "text"
      },
      "source": [
        "<a href=\"https://colab.research.google.com/github/Sunnn-y/ICR_Project/blob/main/jobplanet_crawling_selenium.ipynb\" target=\"_parent\"><img src=\"https://colab.research.google.com/assets/colab-badge.svg\" alt=\"Open In Colab\"/></a>"
      ]
    },
    {
      "cell_type": "markdown",
      "source": [
        "[참고] 잡플래닛 리뷰 정보 크롤링 & 엑셀 저장\n",
        "\n",
        "\n",
        "https://wikidocs.net/149338"
      ],
      "metadata": {
        "id": "A-vNyRHFxWNx"
      }
    },
    {
      "cell_type": "code",
      "source": [
        "# !pip install selenium\n",
        "!pip install selenium webdriver-manager"
      ],
      "metadata": {
        "id": "_OvN9lZxyX9N"
      },
      "execution_count": null,
      "outputs": []
    },
    {
      "cell_type": "code",
      "source": [
        "# step1.프로젝트에 필요한 패키지 불러오기\n",
        "from  selenium  import  webdriver\n",
        "from  selenium.webdriver.common.keys  import  Keys\n",
        "from  selenium.webdriver.common.by  import  By\n",
        "import  time\n",
        "import  pandas  as  pd\n",
        "import  math"
      ],
      "metadata": {
        "id": "lEv5Sc9yFnz9"
      },
      "execution_count": null,
      "outputs": []
    },
    {
      "cell_type": "code",
      "source": [
        "# step2.로그인 정보 및 검색할 회사 미리 정의\n",
        "USR  =  \"email\"\n",
        "PWD  =  \"password\"\n",
        "QUERY  =  \"company_name\""
      ],
      "metadata": {
        "id": "pDyLzL5mFoVm"
      },
      "execution_count": null,
      "outputs": []
    },
    {
      "cell_type": "code",
      "source": [
        "# step3.크롬드라이버 실행 및 잡플래닛 로그인 함수\n",
        "def  login(driver,  usr,  pwd):\n",
        "    driver.get(\"https://www.jobplanet.co.kr/users/sign_in?_nav=gb\")\n",
        "    time.sleep(5)\n",
        "\n",
        "    # 아이디 입력\n",
        "    login_id  =  driver.find_element(By.ID,  \"user_email\")\n",
        "    login_id.send_keys(usr)\n",
        "\n",
        "    # 비밀번호 입력\n",
        "    login_pwd  =  driver.find_element(By.ID,  \"user_password\")\n",
        "    login_pwd.send_keys(pwd)\n",
        "\n",
        "    # 로그인 버튼 클릭\n",
        "    login_id.send_keys(Keys.RETURN)\n",
        "    time.sleep(5)"
      ],
      "metadata": {
        "id": "ucLsTT3QyVp4"
      },
      "execution_count": null,
      "outputs": []
    },
    {
      "cell_type": "code",
      "source": [
        "# step4.원하는 회사의 리뷰 페이지까지 이동 함수\n",
        "def  go_to_review_page(driver,  query):\n",
        "    # 검색창에 회사명 입력\n",
        "    search_query  =  driver.find_element(By.ID,  \"search_bar_search_query\")\n",
        "    search_query.send_keys(query)\n",
        "    search_query.send_keys(Keys.RETURN)\n",
        "    time.sleep(3)\n",
        "\n",
        "    # 회사명 클릭\n",
        "    driver.find_element(By.CLASS_NAME,  \"tit\").click()\n",
        "    time.sleep(5)\n",
        "\n",
        "    # 팝업창 제거\n",
        "    driver.find_element(By.CLASS_NAME,  \"btn_close_x_ty1\").click()\n",
        "    time.sleep(3)"
      ],
      "metadata": {
        "id": "werIZxV6yiQM"
      },
      "execution_count": null,
      "outputs": []
    },
    {
      "cell_type": "code",
      "source": [
        "# step5. 별점 변환 함수\n",
        "def  parse_star_rating(style_attribute):\n",
        "    if  len(style_attribute)  ==  11:\n",
        "        rating_value  =  int(style_attribute[7:9])\n",
        "        return  f\"{rating_value  //  20}점\"\n",
        "    else:\n",
        "        return  \"5점\""
      ],
      "metadata": {
        "id": "tZqqh3IRylSk"
      },
      "execution_count": null,
      "outputs": []
    },
    {
      "cell_type": "code",
      "source": [
        "# step6.데이터 크롤링 함수 (직무/근속여부/일시/요약/평점/장점/단점/경영진에게 바라는 점)\n",
        "def  scrape_data(driver):\n",
        "\n",
        "    list_div  =  []\n",
        "    list_cur  =  []\n",
        "    list_date  =  []\n",
        "    list_stars  =  []\n",
        "    list_summary  =  []\n",
        "    list_merit  =  []\n",
        "    list_disadvantages  =  []\n",
        "    list_opinions  =  []\n",
        "\n",
        "    # 크롤링 할 리뷰 갯수 파악\n",
        "    review_count  =  driver.find_element(By.ID,  \"viewReviewsTitle\")\n",
        "    review_count  =  review_count.find_element(By.CLASS_NAME,  \"num\").text\n",
        "\n",
        "    # 크롤링 할 페이지수 파악\n",
        "    page  =  math.ceil(int(review_count.replace(',',''))/5)\n",
        "\n",
        "    for  _  in  range(page):\n",
        "        review_box  =  driver.find_elements(By.CLASS_NAME,  \"content_wrap\")\n",
        "\n",
        "        # 페이지당 최대 5개의 리뷰 박스 존재\n",
        "        for  i  in  review_box:\n",
        "            user_info  =  i.find_elements(By.CLASS_NAME,  \"txt1\")\n",
        "\n",
        "            # 직무\n",
        "            division  =  user_info[0].text\n",
        "            list_div.append(division)\n",
        "\n",
        "            # 재직여부\n",
        "            current  =  user_info[1].text\n",
        "            list_cur.append(current)\n",
        "\n",
        "            # 날짜\n",
        "\n",
        "            try:\n",
        "                date  =  user_info[3].text\n",
        "                list_date.append(date)\n",
        "\n",
        "            except:  #날짜 없는 경우 예외처리\n",
        "                date  =  \"날짜 없음\"\n",
        "                list_date.append(date)\n",
        "\n",
        "            # 리뷰 요약\n",
        "            try:\n",
        "                summary  =  i.find_element(By.CLASS_NAME,  \"us_label \")\n",
        "                list_summary.append(summary.text)\n",
        "\n",
        "            except:  #신고로 인해 리뷰 요약 없는 경우 예외처리\n",
        "                summary_ban  =  i.find_element(By.CLASS_NAME,  \"cont_discontinu.discontinu_category\")\n",
        "                list_summary.append(summary_ban.text)\n",
        "                list_merit.append(summary_ban.text)\n",
        "                list_disadvantages.append(summary_ban.text)\n",
        "                list_opinions.append(summary_ban.text)\n",
        "\n",
        "\n",
        "            # 장점, 단점, 경영진에게 바라는 점\n",
        "            try:\n",
        "                contents  =  i.find_elements(By.CLASS_NAME,  \"df1\")\n",
        "\n",
        "                merit  =  contents[0].text\n",
        "                list_merit.append(merit)\n",
        "\n",
        "                disadvantage  =  contents[1].text\n",
        "                list_disadvantages.append(disadvantage)\n",
        "\n",
        "                opinion  =  contents[2].text\n",
        "                list_opinions.append(opinion)\n",
        "\n",
        "            except:\n",
        "                pass\n",
        "\n",
        "\n",
        "\n",
        "            try:\n",
        "                stars  =  i.find_elements(By.CLASS_NAME,  \"star_score\")\n",
        "                for  star  in  stars:\n",
        "                    list_stars.append(parse_star_rating(star.get_attribute('style')))\n",
        "\n",
        "            except:\n",
        "                list_stars.append(\"별점 없음\")\n",
        "\n",
        "\n",
        "        try:\n",
        "            driver.find_element(By.CLASS_NAME,  \"btn_pgnext\").click()\n",
        "            time.sleep(5)\n",
        "        except:\n",
        "            pass\n",
        "\n",
        "\n",
        "\n",
        "    total_data  =  pd.DataFrame({\n",
        "\n",
        "    '날짜':  list_date,\n",
        "    '직무':  list_div,\n",
        "    '고용 현황':  list_cur,\n",
        "    '별점':  list_stars,\n",
        "    '요약':  list_summary,\n",
        "    '장점':  list_merit,\n",
        "    '단점':  list_disadvantages,\n",
        "    '경영진에게 바라는 점':  list_opinions\n",
        "\n",
        "    })\n",
        "\n",
        "    return  total_data"
      ],
      "metadata": {
        "id": "hLvxUUAKyoN7"
      },
      "execution_count": null,
      "outputs": []
    },
    {
      "cell_type": "code",
      "source": [
        "def  main():\n",
        "\n",
        "    # 크롬 드라이버 실행\n",
        "    driver  =  webdriver.Chrome()\n",
        "\n",
        "    # 로그인\n",
        "    login(driver,  USR,  PWD)\n",
        "\n",
        "    # 리뷰 페이지로 이동\n",
        "    go_to_review_page(driver,  QUERY)\n",
        "\n",
        "    # 리뷰 클롤링\n",
        "    total_data  =  scrape_data(driver)\n",
        "\n",
        "    # 엑셀 파일로 저장\n",
        "    total_data.to_excel(f\"잡플래닛 리뷰 총정리_{QUERY}.xlsx\",  index=True)\n",
        "\n",
        "    # 크롬 드라이버 종료\n",
        "    driver.close()\n",
        "\n",
        "if  __name__  ==  \"__main__\":\n",
        "\n",
        "    main()"
      ],
      "metadata": {
        "colab": {
          "base_uri": "https://localhost:8080/",
          "height": 715
        },
        "id": "DM3coJuPyq6I",
        "outputId": "25ca8768-8b90-4ba4-c6d1-542172720fad"
      },
      "execution_count": null,
      "outputs": [
        {
          "output_type": "error",
          "ename": "SessionNotCreatedException",
          "evalue": "ignored",
          "traceback": [
            "\u001b[0;31m---------------------------------------------------------------------------\u001b[0m",
            "\u001b[0;31mSessionNotCreatedException\u001b[0m                Traceback (most recent call last)",
            "\u001b[0;32m<ipython-input-10-4ba4404c63fe>\u001b[0m in \u001b[0;36m<cell line: 21>\u001b[0;34m()\u001b[0m\n\u001b[1;32m     21\u001b[0m \u001b[0;32mif\u001b[0m  \u001b[0m__name__\u001b[0m  \u001b[0;34m==\u001b[0m  \u001b[0;34m\"__main__\"\u001b[0m\u001b[0;34m:\u001b[0m\u001b[0;34m\u001b[0m\u001b[0;34m\u001b[0m\u001b[0m\n\u001b[1;32m     22\u001b[0m \u001b[0;34m\u001b[0m\u001b[0m\n\u001b[0;32m---> 23\u001b[0;31m     \u001b[0mmain\u001b[0m\u001b[0;34m(\u001b[0m\u001b[0;34m)\u001b[0m\u001b[0;34m\u001b[0m\u001b[0;34m\u001b[0m\u001b[0m\n\u001b[0m",
            "\u001b[0;32m<ipython-input-10-4ba4404c63fe>\u001b[0m in \u001b[0;36mmain\u001b[0;34m()\u001b[0m\n\u001b[1;32m      2\u001b[0m \u001b[0;34m\u001b[0m\u001b[0m\n\u001b[1;32m      3\u001b[0m     \u001b[0;31m# 크롬 드라이버 실행\u001b[0m\u001b[0;34m\u001b[0m\u001b[0;34m\u001b[0m\u001b[0m\n\u001b[0;32m----> 4\u001b[0;31m     \u001b[0mdriver\u001b[0m  \u001b[0;34m=\u001b[0m  \u001b[0mwebdriver\u001b[0m\u001b[0;34m.\u001b[0m\u001b[0mChrome\u001b[0m\u001b[0;34m(\u001b[0m\u001b[0;34m)\u001b[0m\u001b[0;34m\u001b[0m\u001b[0;34m\u001b[0m\u001b[0m\n\u001b[0m\u001b[1;32m      5\u001b[0m \u001b[0;34m\u001b[0m\u001b[0m\n\u001b[1;32m      6\u001b[0m     \u001b[0;31m# 로그인\u001b[0m\u001b[0;34m\u001b[0m\u001b[0;34m\u001b[0m\u001b[0m\n",
            "\u001b[0;32m/usr/local/lib/python3.10/dist-packages/selenium/webdriver/chrome/webdriver.py\u001b[0m in \u001b[0;36m__init__\u001b[0;34m(self, options, service, keep_alive)\u001b[0m\n\u001b[1;32m     43\u001b[0m         \u001b[0moptions\u001b[0m \u001b[0;34m=\u001b[0m \u001b[0moptions\u001b[0m \u001b[0;32mif\u001b[0m \u001b[0moptions\u001b[0m \u001b[0;32melse\u001b[0m \u001b[0mOptions\u001b[0m\u001b[0;34m(\u001b[0m\u001b[0;34m)\u001b[0m\u001b[0;34m\u001b[0m\u001b[0;34m\u001b[0m\u001b[0m\n\u001b[1;32m     44\u001b[0m \u001b[0;34m\u001b[0m\u001b[0m\n\u001b[0;32m---> 45\u001b[0;31m         super().__init__(\n\u001b[0m\u001b[1;32m     46\u001b[0m             \u001b[0mDesiredCapabilities\u001b[0m\u001b[0;34m.\u001b[0m\u001b[0mCHROME\u001b[0m\u001b[0;34m[\u001b[0m\u001b[0;34m\"browserName\"\u001b[0m\u001b[0;34m]\u001b[0m\u001b[0;34m,\u001b[0m\u001b[0;34m\u001b[0m\u001b[0;34m\u001b[0m\u001b[0m\n\u001b[1;32m     47\u001b[0m             \u001b[0;34m\"goog\"\u001b[0m\u001b[0;34m,\u001b[0m\u001b[0;34m\u001b[0m\u001b[0;34m\u001b[0m\u001b[0m\n",
            "\u001b[0;32m/usr/local/lib/python3.10/dist-packages/selenium/webdriver/chromium/webdriver.py\u001b[0m in \u001b[0;36m__init__\u001b[0;34m(self, browser_name, vendor_prefix, options, service, keep_alive)\u001b[0m\n\u001b[1;32m     54\u001b[0m \u001b[0;34m\u001b[0m\u001b[0m\n\u001b[1;32m     55\u001b[0m         \u001b[0;32mtry\u001b[0m\u001b[0;34m:\u001b[0m\u001b[0;34m\u001b[0m\u001b[0;34m\u001b[0m\u001b[0m\n\u001b[0;32m---> 56\u001b[0;31m             super().__init__(\n\u001b[0m\u001b[1;32m     57\u001b[0m                 command_executor=ChromiumRemoteConnection(\n\u001b[1;32m     58\u001b[0m                     \u001b[0mremote_server_addr\u001b[0m\u001b[0;34m=\u001b[0m\u001b[0mself\u001b[0m\u001b[0;34m.\u001b[0m\u001b[0mservice\u001b[0m\u001b[0;34m.\u001b[0m\u001b[0mservice_url\u001b[0m\u001b[0;34m,\u001b[0m\u001b[0;34m\u001b[0m\u001b[0;34m\u001b[0m\u001b[0m\n",
            "\u001b[0;32m/usr/local/lib/python3.10/dist-packages/selenium/webdriver/remote/webdriver.py\u001b[0m in \u001b[0;36m__init__\u001b[0;34m(self, command_executor, keep_alive, file_detector, options)\u001b[0m\n\u001b[1;32m    206\u001b[0m         \u001b[0mself\u001b[0m\u001b[0;34m.\u001b[0m\u001b[0m_authenticator_id\u001b[0m \u001b[0;34m=\u001b[0m \u001b[0;32mNone\u001b[0m\u001b[0;34m\u001b[0m\u001b[0;34m\u001b[0m\u001b[0m\n\u001b[1;32m    207\u001b[0m         \u001b[0mself\u001b[0m\u001b[0;34m.\u001b[0m\u001b[0mstart_client\u001b[0m\u001b[0;34m(\u001b[0m\u001b[0;34m)\u001b[0m\u001b[0;34m\u001b[0m\u001b[0;34m\u001b[0m\u001b[0m\n\u001b[0;32m--> 208\u001b[0;31m         \u001b[0mself\u001b[0m\u001b[0;34m.\u001b[0m\u001b[0mstart_session\u001b[0m\u001b[0;34m(\u001b[0m\u001b[0mcapabilities\u001b[0m\u001b[0;34m)\u001b[0m\u001b[0;34m\u001b[0m\u001b[0;34m\u001b[0m\u001b[0m\n\u001b[0m\u001b[1;32m    209\u001b[0m \u001b[0;34m\u001b[0m\u001b[0m\n\u001b[1;32m    210\u001b[0m     \u001b[0;32mdef\u001b[0m \u001b[0m__repr__\u001b[0m\u001b[0;34m(\u001b[0m\u001b[0mself\u001b[0m\u001b[0;34m)\u001b[0m\u001b[0;34m:\u001b[0m\u001b[0;34m\u001b[0m\u001b[0;34m\u001b[0m\u001b[0m\n",
            "\u001b[0;32m/usr/local/lib/python3.10/dist-packages/selenium/webdriver/remote/webdriver.py\u001b[0m in \u001b[0;36mstart_session\u001b[0;34m(self, capabilities)\u001b[0m\n\u001b[1;32m    290\u001b[0m \u001b[0;34m\u001b[0m\u001b[0m\n\u001b[1;32m    291\u001b[0m         \u001b[0mcaps\u001b[0m \u001b[0;34m=\u001b[0m \u001b[0m_create_caps\u001b[0m\u001b[0;34m(\u001b[0m\u001b[0mcapabilities\u001b[0m\u001b[0;34m)\u001b[0m\u001b[0;34m\u001b[0m\u001b[0;34m\u001b[0m\u001b[0m\n\u001b[0;32m--> 292\u001b[0;31m         \u001b[0mresponse\u001b[0m \u001b[0;34m=\u001b[0m \u001b[0mself\u001b[0m\u001b[0;34m.\u001b[0m\u001b[0mexecute\u001b[0m\u001b[0;34m(\u001b[0m\u001b[0mCommand\u001b[0m\u001b[0;34m.\u001b[0m\u001b[0mNEW_SESSION\u001b[0m\u001b[0;34m,\u001b[0m \u001b[0mcaps\u001b[0m\u001b[0;34m)\u001b[0m\u001b[0;34m[\u001b[0m\u001b[0;34m\"value\"\u001b[0m\u001b[0;34m]\u001b[0m\u001b[0;34m\u001b[0m\u001b[0;34m\u001b[0m\u001b[0m\n\u001b[0m\u001b[1;32m    293\u001b[0m         \u001b[0mself\u001b[0m\u001b[0;34m.\u001b[0m\u001b[0msession_id\u001b[0m \u001b[0;34m=\u001b[0m \u001b[0mresponse\u001b[0m\u001b[0;34m.\u001b[0m\u001b[0mget\u001b[0m\u001b[0;34m(\u001b[0m\u001b[0;34m\"sessionId\"\u001b[0m\u001b[0;34m)\u001b[0m\u001b[0;34m\u001b[0m\u001b[0;34m\u001b[0m\u001b[0m\n\u001b[1;32m    294\u001b[0m         \u001b[0mself\u001b[0m\u001b[0;34m.\u001b[0m\u001b[0mcaps\u001b[0m \u001b[0;34m=\u001b[0m \u001b[0mresponse\u001b[0m\u001b[0;34m.\u001b[0m\u001b[0mget\u001b[0m\u001b[0;34m(\u001b[0m\u001b[0;34m\"capabilities\"\u001b[0m\u001b[0;34m)\u001b[0m\u001b[0;34m\u001b[0m\u001b[0;34m\u001b[0m\u001b[0m\n",
            "\u001b[0;32m/usr/local/lib/python3.10/dist-packages/selenium/webdriver/remote/webdriver.py\u001b[0m in \u001b[0;36mexecute\u001b[0;34m(self, driver_command, params)\u001b[0m\n\u001b[1;32m    345\u001b[0m         \u001b[0mresponse\u001b[0m \u001b[0;34m=\u001b[0m \u001b[0mself\u001b[0m\u001b[0;34m.\u001b[0m\u001b[0mcommand_executor\u001b[0m\u001b[0;34m.\u001b[0m\u001b[0mexecute\u001b[0m\u001b[0;34m(\u001b[0m\u001b[0mdriver_command\u001b[0m\u001b[0;34m,\u001b[0m \u001b[0mparams\u001b[0m\u001b[0;34m)\u001b[0m\u001b[0;34m\u001b[0m\u001b[0;34m\u001b[0m\u001b[0m\n\u001b[1;32m    346\u001b[0m         \u001b[0;32mif\u001b[0m \u001b[0mresponse\u001b[0m\u001b[0;34m:\u001b[0m\u001b[0;34m\u001b[0m\u001b[0;34m\u001b[0m\u001b[0m\n\u001b[0;32m--> 347\u001b[0;31m             \u001b[0mself\u001b[0m\u001b[0;34m.\u001b[0m\u001b[0merror_handler\u001b[0m\u001b[0;34m.\u001b[0m\u001b[0mcheck_response\u001b[0m\u001b[0;34m(\u001b[0m\u001b[0mresponse\u001b[0m\u001b[0;34m)\u001b[0m\u001b[0;34m\u001b[0m\u001b[0;34m\u001b[0m\u001b[0m\n\u001b[0m\u001b[1;32m    348\u001b[0m             \u001b[0mresponse\u001b[0m\u001b[0;34m[\u001b[0m\u001b[0;34m\"value\"\u001b[0m\u001b[0;34m]\u001b[0m \u001b[0;34m=\u001b[0m \u001b[0mself\u001b[0m\u001b[0;34m.\u001b[0m\u001b[0m_unwrap_value\u001b[0m\u001b[0;34m(\u001b[0m\u001b[0mresponse\u001b[0m\u001b[0;34m.\u001b[0m\u001b[0mget\u001b[0m\u001b[0;34m(\u001b[0m\u001b[0;34m\"value\"\u001b[0m\u001b[0;34m,\u001b[0m \u001b[0;32mNone\u001b[0m\u001b[0;34m)\u001b[0m\u001b[0;34m)\u001b[0m\u001b[0;34m\u001b[0m\u001b[0;34m\u001b[0m\u001b[0m\n\u001b[1;32m    349\u001b[0m             \u001b[0;32mreturn\u001b[0m \u001b[0mresponse\u001b[0m\u001b[0;34m\u001b[0m\u001b[0;34m\u001b[0m\u001b[0m\n",
            "\u001b[0;32m/usr/local/lib/python3.10/dist-packages/selenium/webdriver/remote/errorhandler.py\u001b[0m in \u001b[0;36mcheck_response\u001b[0;34m(self, response)\u001b[0m\n\u001b[1;32m    227\u001b[0m                 \u001b[0malert_text\u001b[0m \u001b[0;34m=\u001b[0m \u001b[0mvalue\u001b[0m\u001b[0;34m[\u001b[0m\u001b[0;34m\"alert\"\u001b[0m\u001b[0;34m]\u001b[0m\u001b[0;34m.\u001b[0m\u001b[0mget\u001b[0m\u001b[0;34m(\u001b[0m\u001b[0;34m\"text\"\u001b[0m\u001b[0;34m)\u001b[0m\u001b[0;34m\u001b[0m\u001b[0;34m\u001b[0m\u001b[0m\n\u001b[1;32m    228\u001b[0m             \u001b[0;32mraise\u001b[0m \u001b[0mexception_class\u001b[0m\u001b[0;34m(\u001b[0m\u001b[0mmessage\u001b[0m\u001b[0;34m,\u001b[0m \u001b[0mscreen\u001b[0m\u001b[0;34m,\u001b[0m \u001b[0mstacktrace\u001b[0m\u001b[0;34m,\u001b[0m \u001b[0malert_text\u001b[0m\u001b[0;34m)\u001b[0m  \u001b[0;31m# type: ignore[call-arg]  # mypy is not smart enough here\u001b[0m\u001b[0;34m\u001b[0m\u001b[0;34m\u001b[0m\u001b[0m\n\u001b[0;32m--> 229\u001b[0;31m         \u001b[0;32mraise\u001b[0m \u001b[0mexception_class\u001b[0m\u001b[0;34m(\u001b[0m\u001b[0mmessage\u001b[0m\u001b[0;34m,\u001b[0m \u001b[0mscreen\u001b[0m\u001b[0;34m,\u001b[0m \u001b[0mstacktrace\u001b[0m\u001b[0;34m)\u001b[0m\u001b[0;34m\u001b[0m\u001b[0;34m\u001b[0m\u001b[0m\n\u001b[0m",
            "\u001b[0;31mSessionNotCreatedException\u001b[0m: Message: session not created: Chrome failed to start: exited normally.\n  (session not created: DevToolsActivePort file doesn't exist)\n  (The process started from chrome location /root/.cache/selenium/chrome/linux64/119.0.6045.105/chrome is no longer running, so ChromeDriver is assuming that Chrome has crashed.)\nStacktrace:\n#0 0x5a1e5a0715e3 <unknown>\n#1 0x5a1e59d340b7 <unknown>\n#2 0x5a1e59d6ae55 <unknown>\n#3 0x5a1e59d67b81 <unknown>\n#4 0x5a1e59db247f <unknown>\n#5 0x5a1e59da8cc3 <unknown>\n#6 0x5a1e59d740e4 <unknown>\n#7 0x5a1e59d750ae <unknown>\n#8 0x5a1e5a037ce1 <unknown>\n#9 0x5a1e5a03bb7e <unknown>\n#10 0x5a1e5a0254b5 <unknown>\n#11 0x5a1e5a03c7d6 <unknown>\n#12 0x5a1e5a008dbf <unknown>\n#13 0x5a1e5a05f748 <unknown>\n#14 0x5a1e5a05f917 <unknown>\n#15 0x5a1e5a070773 <unknown>\n#16 0x7801d606cac3 <unknown>\n"
          ]
        }
      ]
    }
  ]
}
