{
 "cells": [
  {
   "cell_type": "code",
   "execution_count": 2,
   "metadata": {},
   "outputs": [],
   "source": [
    "import pandas as pd"
   ]
  },
  {
   "cell_type": "code",
   "execution_count": 3,
   "metadata": {},
   "outputs": [
    {
     "data": {
      "text/html": [
       "<div>\n",
       "<style scoped>\n",
       "    .dataframe tbody tr th:only-of-type {\n",
       "        vertical-align: middle;\n",
       "    }\n",
       "\n",
       "    .dataframe tbody tr th {\n",
       "        vertical-align: top;\n",
       "    }\n",
       "\n",
       "    .dataframe thead th {\n",
       "        text-align: right;\n",
       "    }\n",
       "</style>\n",
       "<table border=\"1\" class=\"dataframe\">\n",
       "  <thead>\n",
       "    <tr style=\"text-align: right;\">\n",
       "      <th></th>\n",
       "      <th>작성일</th>\n",
       "      <th>직무</th>\n",
       "      <th>재직 여부</th>\n",
       "      <th>지역</th>\n",
       "      <th>총점</th>\n",
       "      <th>승진 기회 및 가능성</th>\n",
       "      <th>복지 및 급여</th>\n",
       "      <th>업무와 삶의 균형</th>\n",
       "      <th>사내문화</th>\n",
       "      <th>경영진</th>\n",
       "      <th>총평</th>\n",
       "      <th>장점</th>\n",
       "      <th>단점</th>\n",
       "      <th>바라는점</th>\n",
       "    </tr>\n",
       "  </thead>\n",
       "  <tbody>\n",
       "    <tr>\n",
       "      <th>0</th>\n",
       "      <td>2023. 11</td>\n",
       "      <td>엔지니어링</td>\n",
       "      <td>전직원</td>\n",
       "      <td>대전</td>\n",
       "      <td>80</td>\n",
       "      <td>80</td>\n",
       "      <td>80</td>\n",
       "      <td>60</td>\n",
       "      <td>80</td>\n",
       "      <td>80</td>\n",
       "      <td>업무환경은 힘들지만 만족도가 높으며 페이가 좋음</td>\n",
       "      <td>업무강도가 강하지만 그만큼 높은 급여를 기대할 수 있음</td>\n",
       "      <td>현장에서 하는 일이다보니 몸이 힘들고 삶의 여유가 없음</td>\n",
       "      <td>더 좋은 회사로 성장하길 바라겠습니다</td>\n",
       "    </tr>\n",
       "  </tbody>\n",
       "</table>\n",
       "</div>"
      ],
      "text/plain": [
       "        작성일     직무 재직 여부  지역  총점  승진 기회 및 가능성  복지 및 급여  업무와 삶의 균형  사내문화  경영진  \\\n",
       "0  2023. 11  엔지니어링   전직원  대전  80           80       80         60    80   80   \n",
       "\n",
       "                           총평                              장점  \\\n",
       "0  업무환경은 힘들지만 만족도가 높으며 페이가 좋음  업무강도가 강하지만 그만큼 높은 급여를 기대할 수 있음   \n",
       "\n",
       "                               단점                  바라는점  \n",
       "0  현장에서 하는 일이다보니 몸이 힘들고 삶의 여유가 없음  더 좋은 회사로 성장하길 바라겠습니다  "
      ]
     },
     "execution_count": 3,
     "metadata": {},
     "output_type": "execute_result"
    }
   ],
   "source": [
    "# concat한 잡플래닛 리뷰 파일 불러오기\n",
    "df_raw = pd.read_csv('jobplanet_concat.csv')\n",
    "df_raw.head(1)"
   ]
  },
  {
   "cell_type": "code",
   "execution_count": 4,
   "metadata": {},
   "outputs": [
    {
     "data": {
      "text/plain": [
       "(4422, 14)"
      ]
     },
     "execution_count": 4,
     "metadata": {},
     "output_type": "execute_result"
    }
   ],
   "source": [
    "# 행과 열 개수 확인\n",
    "df_raw.shape"
   ]
  },
  {
   "cell_type": "code",
   "execution_count": 5,
   "metadata": {},
   "outputs": [
    {
     "data": {
      "text/plain": [
       "Index(['작성일', '직무', '재직 여부', '지역', '총점', '승진 기회 및 가능성', '복지 및 급여', '업무와 삶의 균형',\n",
       "       '사내문화', '경영진', '총평', '장점', '단점', '바라는점'],\n",
       "      dtype='object')"
      ]
     },
     "execution_count": 5,
     "metadata": {},
     "output_type": "execute_result"
    }
   ],
   "source": [
    "# 칼럼명 확인\n",
    "df_raw.columns"
   ]
  },
  {
   "cell_type": "markdown",
   "metadata": {},
   "source": [
    "# 키워드 추출"
   ]
  },
  {
   "cell_type": "markdown",
   "metadata": {},
   "source": []
  }
 ],
 "metadata": {
  "kernelspec": {
   "display_name": "base",
   "language": "python",
   "name": "python3"
  },
  "language_info": {
   "codemirror_mode": {
    "name": "ipython",
    "version": 3
   },
   "file_extension": ".py",
   "mimetype": "text/x-python",
   "name": "python",
   "nbconvert_exporter": "python",
   "pygments_lexer": "ipython3",
   "version": "3.11.3"
  },
  "orig_nbformat": 4
 },
 "nbformat": 4,
 "nbformat_minor": 2
}
